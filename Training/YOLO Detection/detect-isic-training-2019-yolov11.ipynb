{
 "cells": [
  {
   "cell_type": "code",
   "execution_count": null,
   "metadata": {
    "_cell_guid": "b1076dfc-b9ad-4769-8c92-a6c4dae69d19",
    "_uuid": "8f2839f25d086af736a60e9eeb907d3b93b6e0e5",
    "trusted": true
   },
   "outputs": [],
   "source": [
    "!pip install ultralytics"
   ]
  },
  {
   "cell_type": "code",
   "execution_count": null,
   "metadata": {
    "trusted": true
   },
   "outputs": [],
   "source": [
    "import os\n",
    "import pandas as pd\n",
    "import shutil\n",
    "\n",
    "# 1) Paths – adjust if needed\n",
    "csv_path    = '/kaggle/input/original-isic-2019/ISIC_2019_Training_GroundTruth.csv'\n",
    "input_dir   = '/kaggle/input/annotated-isic-2019-Training/runs/detect/yolov11_detections/crops/original-isic-2019/ISIC_2019_Training_Input/ISIC_2019_Training_Input'\n",
    "output_dir  = '/kaggle/working/ISIC_2019_Training_By_Class'\n",
    "\n",
    "# 2) Load CSV & build image→class map\n",
    "df = pd.read_csv(csv_path)\n",
    "classes = ['MEL','NV','BCC','AK','BKL','DF','VASC','SCC','UNK']\n",
    "\n",
    "img2cls = {}\n",
    "for _, row in df.iterrows():\n",
    "    img_id = row['image']\n",
    "    # find which class has 1.0\n",
    "    for c in classes:\n",
    "        if row[c] == 1.0:\n",
    "            img2cls[img_id] = c\n",
    "            break\n",
    "\n",
    "# 3) Make output folders\n",
    "for c in classes:\n",
    "    os.makedirs(os.path.join(output_dir, c), exist_ok=True)\n",
    "\n",
    "# 4) Iterate through all cropped images\n",
    "for fname in os.listdir(input_dir):\n",
    "    if not fname.lower().endswith('.jpg'):\n",
    "        continue\n",
    "\n",
    "    stem = os.path.splitext(fname)[0]          \n",
    "    orig = stem.rsplit('_', 1)[0]              \n",
    "\n",
    "    cls = img2cls.get(orig, 'UNK')             \n",
    "    src = os.path.join(input_dir, fname)\n",
    "    dst = os.path.join(output_dir, cls, fname)\n",
    "\n",
    "    shutil.copy(src, dst)\n",
    "\n",
    "print(\"Done! Crops have been sorted into:\", output_dir)"
   ]
  }
 ],
 "metadata": {
  "kaggle": {
   "accelerator": "none",
   "dataSources": [
    {
     "datasetId": 7120785,
     "sourceId": 11374249,
     "sourceType": "datasetVersion"
    },
    {
     "datasetId": 7169478,
     "sourceId": 11444353,
     "sourceType": "datasetVersion"
    },
    {
     "isSourceIdPinned": false,
     "modelId": 302191,
     "modelInstanceId": 281299,
     "sourceId": 336078,
     "sourceType": "modelInstanceVersion"
    }
   ],
   "dockerImageVersionId": 31012,
   "isGpuEnabled": false,
   "isInternetEnabled": true,
   "language": "python",
   "sourceType": "notebook"
  },
  "kernelspec": {
   "display_name": "Python 3",
   "language": "python",
   "name": "python3"
  },
  "language_info": {
   "codemirror_mode": {
    "name": "ipython",
    "version": 3
   },
   "file_extension": ".py",
   "mimetype": "text/x-python",
   "name": "python",
   "nbconvert_exporter": "python",
   "pygments_lexer": "ipython3",
   "version": "3.11.11"
  }
 },
 "nbformat": 4,
 "nbformat_minor": 4
}
